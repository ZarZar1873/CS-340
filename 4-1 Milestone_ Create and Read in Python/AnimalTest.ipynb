{
 "cells": [
  {
   "cell_type": "code",
   "execution_count": 1,
   "id": "30bd696e",
   "metadata": {},
   "outputs": [],
   "source": [
    "from AnimalShelter import AnimalShelter"
   ]
  },
  {
   "cell_type": "code",
   "execution_count": 2,
   "id": "e0b3cf83",
   "metadata": {},
   "outputs": [],
   "source": [
    "def main():\n",
    "    animalList = AnimalShelter(\"aacuser\", \"SNHU1234\") # Log in user and password\n",
    "    \n",
    "    # Data entry for the create function\n",
    "    data = {'age_upon_outcome': \"3 years\",\n",
    "    'animal_id': \"DR1116202337\",\n",
    "    'animal_type': \"Dog\",\n",
    "    'breed': \"Pit Mix\",\n",
    "    'color': \"Tan\",\n",
    "    'date_of_birth': \"2020-11-16\",\n",
    "    'datetime': \"2023-11-16 11:52:00\",\n",
    "    'monthyear': \"2023-11-16T11:52:00\",\n",
    "    'name': \"Dakota\",\n",
    "    'outcome_subtype': \"Partner\",\n",
    "    'outcome_type': 'Transfer',\n",
    "    'sex_upon_outcome': \"Spayed Male\",\n",
    "    'location_lat': 30.6525984560228,\n",
    "    'location_long': -97.7419963476444,\n",
    "    'age_upon_outcome_in_weeks': 156.00}\n",
    "    \n",
    "    searchTerm = {\"breed\": \"Pit Mix\"} # Term to be searched for in the read function\n",
    "    \n",
    "    if animalList.create(data): # If adding entry was successful\n",
    "        print(\"record added\")\n",
    "    else:\n",
    "        print(\"ERROR record not added\")\n",
    "    \n",
    "    print(\"Here are the rocords found:\")\n",
    "    search = animalList.read({\"name\": \"Nyla\"}) # Calls read function that prints list of search results\n"
   ]
  },
  {
   "cell_type": "code",
   "execution_count": 3,
   "id": "6917a282",
   "metadata": {},
   "outputs": [
    {
     "name": "stdout",
     "output_type": "stream",
     "text": [
      "Hello Animal Shelter\n",
      "in create method.....\n",
      "record added\n",
      "Here are the rocords found:\n",
      "in read method.....\n",
      "{'_id': ObjectId('65492f26028fd12ce2c2d664'), 'rec_num': 13, 'age_upon_outcome': '1 year', 'animal_id': 'A700408', 'animal_type': 'Cat', 'breed': 'Domestic Shorthair Mix', 'color': 'Brown Tabby/White', 'date_of_birth': '2014-04-13', 'datetime': '2015-04-15 13:34:00', 'monthyear': '2015-04-15T13:34:00', 'name': 'Nyla', 'outcome_subtype': '', 'outcome_type': 'Return to Owner', 'sex_upon_outcome': 'Spayed Female', 'location_lat': 30.4101154527976, 'location_long': -97.562415670838, 'age_upon_outcome_in_weeks': 52.5093253968254}\n",
      "\n",
      "{'_id': ObjectId('65492f4167e279656bc932e4'), 'rec_num': 13, 'age_upon_outcome': '1 year', 'animal_id': 'A700408', 'animal_type': 'Cat', 'breed': 'Domestic Shorthair Mix', 'color': 'Brown Tabby/White', 'date_of_birth': '2014-04-13', 'datetime': '2015-04-15 13:34:00', 'monthyear': '2015-04-15T13:34:00', 'name': 'Nyla', 'outcome_subtype': '', 'outcome_type': 'Return to Owner', 'sex_upon_outcome': 'Spayed Female', 'location_lat': 30.4101154527976, 'location_long': -97.562415670838, 'age_upon_outcome_in_weeks': 52.5093253968254}\n",
      "\n",
      "{'_id': ObjectId('6549310fd348dd961923b657'), 'rec_num': 13, 'age_upon_outcome': '1 year', 'animal_id': 'A700408', 'animal_type': 'Cat', 'breed': 'Domestic Shorthair Mix', 'color': 'Brown Tabby/White', 'date_of_birth': '2014-04-13', 'datetime': '2015-04-15 13:34:00', 'monthyear': '2015-04-15T13:34:00', 'name': 'Nyla', 'outcome_subtype': '', 'outcome_type': 'Return to Owner', 'sex_upon_outcome': 'Spayed Female', 'location_lat': 30.4101154527976, 'location_long': -97.562415670838, 'age_upon_outcome_in_weeks': 52.5093253968254}\n",
      "\n",
      "{'_id': ObjectId('6549322ad802f824ec88a1c0'), 'rec_num': 13, 'age_upon_outcome': '1 year', 'animal_id': 'A700408', 'animal_type': 'Cat', 'breed': 'Domestic Shorthair Mix', 'color': 'Brown Tabby/White', 'date_of_birth': '2014-04-13', 'datetime': '2015-04-15 13:34:00', 'monthyear': '2015-04-15T13:34:00', 'name': 'Nyla', 'outcome_subtype': '', 'outcome_type': 'Return to Owner', 'sex_upon_outcome': 'Spayed Female', 'location_lat': 30.4101154527976, 'location_long': -97.562415670838, 'age_upon_outcome_in_weeks': 52.5093253968254}\n",
      "\n",
      "{'_id': ObjectId('6549325b546c6b18529d7069'), 'rec_num': 13, 'age_upon_outcome': '1 year', 'animal_id': 'A700408', 'animal_type': 'Cat', 'breed': 'Domestic Shorthair Mix', 'color': 'Brown Tabby/White', 'date_of_birth': '2014-04-13', 'datetime': '2015-04-15 13:34:00', 'monthyear': '2015-04-15T13:34:00', 'name': 'Nyla', 'outcome_subtype': '', 'outcome_type': 'Return to Owner', 'sex_upon_outcome': 'Spayed Female', 'location_lat': 30.4101154527976, 'location_long': -97.562415670838, 'age_upon_outcome_in_weeks': 52.5093253968254}\n",
      "\n",
      "{'_id': ObjectId('654934a7df1d4cf85af55c82'), 'rec_num': 13, 'age_upon_outcome': '1 year', 'animal_id': 'A700408', 'animal_type': 'Cat', 'breed': 'Domestic Shorthair Mix', 'color': 'Brown Tabby/White', 'date_of_birth': '2014-04-13', 'datetime': '2015-04-15 13:34:00', 'monthyear': '2015-04-15T13:34:00', 'name': 'Nyla', 'outcome_subtype': '', 'outcome_type': 'Return to Owner', 'sex_upon_outcome': 'Spayed Female', 'location_lat': 30.4101154527976, 'location_long': -97.562415670838, 'age_upon_outcome_in_weeks': 52.5093253968254}\n",
      "\n",
      "{'_id': ObjectId('6549392b7b62b0dfb058a45d'), 'rec_num': 13, 'age_upon_outcome': '1 year', 'animal_id': 'A700408', 'animal_type': 'Cat', 'breed': 'Domestic Shorthair Mix', 'color': 'Brown Tabby/White', 'date_of_birth': '2014-04-13', 'datetime': '2015-04-15 13:34:00', 'monthyear': '2015-04-15T13:34:00', 'name': 'Nyla', 'outcome_subtype': '', 'outcome_type': 'Return to Owner', 'sex_upon_outcome': 'Spayed Female', 'location_lat': 30.4101154527976, 'location_long': -97.562415670838, 'age_upon_outcome_in_weeks': 52.5093253968254}\n",
      "\n",
      "{'_id': ObjectId('65493b233220f06ea3a6ac52'), 'rec_num': 13, 'age_upon_outcome': '1 year', 'animal_id': 'A700408', 'animal_type': 'Cat', 'breed': 'Domestic Shorthair Mix', 'color': 'Brown Tabby/White', 'date_of_birth': '2014-04-13', 'datetime': '2015-04-15 13:34:00', 'monthyear': '2015-04-15T13:34:00', 'name': 'Nyla', 'outcome_subtype': '', 'outcome_type': 'Return to Owner', 'sex_upon_outcome': 'Spayed Female', 'location_lat': 30.4101154527976, 'location_long': -97.562415670838, 'age_upon_outcome_in_weeks': 52.5093253968254}\n",
      "\n",
      "{'_id': ObjectId('65493bca85019ae51fb7d720'), 'rec_num': 13, 'age_upon_outcome': '1 year', 'animal_id': 'A700408', 'animal_type': 'Cat', 'breed': 'Domestic Shorthair Mix', 'color': 'Brown Tabby/White', 'date_of_birth': '2014-04-13', 'datetime': '2015-04-15 13:34:00', 'monthyear': '2015-04-15T13:34:00', 'name': 'Nyla', 'outcome_subtype': '', 'outcome_type': 'Return to Owner', 'sex_upon_outcome': 'Spayed Female', 'location_lat': 30.4101154527976, 'location_long': -97.562415670838, 'age_upon_outcome_in_weeks': 52.5093253968254}\n",
      "\n",
      "{'_id': ObjectId('6549443f3dfd5dd0838de823'), 'rec_num': 13, 'age_upon_outcome': '1 year', 'animal_id': 'A700408', 'animal_type': 'Cat', 'breed': 'Domestic Shorthair Mix', 'color': 'Brown Tabby/White', 'date_of_birth': '2014-04-13', 'datetime': '2015-04-15 13:34:00', 'monthyear': '2015-04-15T13:34:00', 'name': 'Nyla', 'outcome_subtype': '', 'outcome_type': 'Return to Owner', 'sex_upon_outcome': 'Spayed Female', 'location_lat': 30.4101154527976, 'location_long': -97.562415670838, 'age_upon_outcome_in_weeks': 52.5093253968254}\n",
      "\n",
      "{'_id': ObjectId('655270c2d8fdfda3d05dd9f1'), 'rec_num': 13, 'age_upon_outcome': '1 year', 'animal_id': 'A700408', 'animal_type': 'Cat', 'breed': 'Domestic Shorthair Mix', 'color': 'Brown Tabby/White', 'date_of_birth': '2014-04-13', 'datetime': '2015-04-15 13:34:00', 'monthyear': '2015-04-15T13:34:00', 'name': 'Nyla', 'outcome_subtype': '', 'outcome_type': 'Return to Owner', 'sex_upon_outcome': 'Spayed Female', 'location_lat': 30.4101154527976, 'location_long': -97.562415670838, 'age_upon_outcome_in_weeks': 52.5093253968254}\n",
      "\n",
      "{'_id': ObjectId('655556d972d526bd77f9aafb'), 'rec_num': 13, 'age_upon_outcome': '1 year', 'animal_id': 'A700408', 'animal_type': 'Cat', 'breed': 'Domestic Shorthair Mix', 'color': 'Brown Tabby/White', 'date_of_birth': '2014-04-13', 'datetime': '2015-04-15 13:34:00', 'monthyear': '2015-04-15T13:34:00', 'name': 'Nyla', 'outcome_subtype': '', 'outcome_type': 'Return to Owner', 'sex_upon_outcome': 'Spayed Female', 'location_lat': 30.4101154527976, 'location_long': -97.562415670838, 'age_upon_outcome_in_weeks': 52.5093253968254}\n",
      "\n",
      "{'_id': ObjectId('65565cfd8d851e57b3708100'), 'rec_num': 13, 'age_upon_outcome': '1 year', 'animal_id': 'A700408', 'animal_type': 'Cat', 'breed': 'Domestic Shorthair Mix', 'color': 'Brown Tabby/White', 'date_of_birth': '2014-04-13', 'datetime': '2015-04-15 13:34:00', 'monthyear': '2015-04-15T13:34:00', 'name': 'Nyla', 'outcome_subtype': '', 'outcome_type': 'Return to Owner', 'sex_upon_outcome': 'Spayed Female', 'location_lat': 30.4101154527976, 'location_long': -97.562415670838, 'age_upon_outcome_in_weeks': 52.5093253968254}\n",
      "\n",
      "{'_id': ObjectId('65565d1b902b3144edbc0520'), 'rec_num': 13, 'age_upon_outcome': '1 year', 'animal_id': 'A700408', 'animal_type': 'Cat', 'breed': 'Domestic Shorthair Mix', 'color': 'Brown Tabby/White', 'date_of_birth': '2014-04-13', 'datetime': '2015-04-15 13:34:00', 'monthyear': '2015-04-15T13:34:00', 'name': 'Nyla', 'outcome_subtype': '', 'outcome_type': 'Return to Owner', 'sex_upon_outcome': 'Spayed Female', 'location_lat': 30.4101154527976, 'location_long': -97.562415670838, 'age_upon_outcome_in_weeks': 52.5093253968254}\n",
      "\n",
      "{'_id': ObjectId('655660b3de3fbd1150dace54'), 'rec_num': 13, 'age_upon_outcome': '1 year', 'animal_id': 'A700408', 'animal_type': 'Cat', 'breed': 'Domestic Shorthair Mix', 'color': 'Brown Tabby/White', 'date_of_birth': '2014-04-13', 'datetime': '2015-04-15 13:34:00', 'monthyear': '2015-04-15T13:34:00', 'name': 'Nyla', 'outcome_subtype': '', 'outcome_type': 'Return to Owner', 'sex_upon_outcome': 'Spayed Female', 'location_lat': 30.4101154527976, 'location_long': -97.562415670838, 'age_upon_outcome_in_weeks': 52.5093253968254}\n",
      "\n",
      "{'_id': ObjectId('6556851df75c3a1f5c641185'), 'rec_num': 13, 'age_upon_outcome': '1 year', 'animal_id': 'A700408', 'animal_type': 'Cat', 'breed': 'Domestic Shorthair Mix', 'color': 'Brown Tabby/White', 'date_of_birth': '2014-04-13', 'datetime': '2015-04-15 13:34:00', 'monthyear': '2015-04-15T13:34:00', 'name': 'Nyla', 'outcome_subtype': '', 'outcome_type': 'Return to Owner', 'sex_upon_outcome': 'Spayed Female', 'location_lat': 30.4101154527976, 'location_long': -97.562415670838, 'age_upon_outcome_in_weeks': 52.5093253968254}\n",
      "\n",
      "{'_id': ObjectId('65568533e2e95a94c35a72b1'), 'rec_num': 13, 'age_upon_outcome': '1 year', 'animal_id': 'A700408', 'animal_type': 'Cat', 'breed': 'Domestic Shorthair Mix', 'color': 'Brown Tabby/White', 'date_of_birth': '2014-04-13', 'datetime': '2015-04-15 13:34:00', 'monthyear': '2015-04-15T13:34:00', 'name': 'Nyla', 'outcome_subtype': '', 'outcome_type': 'Return to Owner', 'sex_upon_outcome': 'Spayed Female', 'location_lat': 30.4101154527976, 'location_long': -97.562415670838, 'age_upon_outcome_in_weeks': 52.5093253968254}\n",
      "\n"
     ]
    }
   ],
   "source": [
    "#call main function\n",
    "main()"
   ]
  }
 ],
 "metadata": {
  "kernelspec": {
   "display_name": "Python 3 (ipykernel)",
   "language": "python",
   "name": "python3"
  },
  "language_info": {
   "codemirror_mode": {
    "name": "ipython",
    "version": 3
   },
   "file_extension": ".py",
   "mimetype": "text/x-python",
   "name": "python",
   "nbconvert_exporter": "python",
   "pygments_lexer": "ipython3",
   "version": "3.9.12"
  }
 },
 "nbformat": 4,
 "nbformat_minor": 5
}
